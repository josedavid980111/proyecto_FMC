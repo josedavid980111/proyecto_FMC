{
 "cells": [
  {
   "cell_type": "code",
   "execution_count": 149,
   "metadata": {},
   "outputs": [
    {
     "name": "stdout",
     "output_type": "stream",
     "text": [
      "Todas las instancias de int no inicializadas:\n",
      "['int puntos =', 'int golpes =', 'int tcpPort =', 'int i =']\n",
      "Todas las instancias de int inicializadas:\n",
      "['int jugadores;', 'int aux2;']\n"
     ]
    }
   ],
   "source": [
    "import re\n",
    "#archivo = input(\"Nombre del archivo: \")\n",
    "#f=open(archivo+\".txt\").read()\n",
    "f=open(\"Ejemplo.txt\").read()\n",
    "\n",
    "print(\"Todas las instancias de int no inicializadas:\")\n",
    "ExpReg = \"int+\\s\\w+\"+\"\\s=\"\n",
    "Exp = re.findall(ExpReg,f,flags=re.MULTILINE)\n",
    "print(Exp)\n",
    "\n",
    "print(\"Todas las instancias de int inicializadas:\")\n",
    "ExpReg2 = \"int+\\s\\w+\"+\";\"\n",
    "Exp2 = re.findall(ExpReg2,f,flags=re.MULTILINE)\n",
    "print(Exp2)"
   ]
  },
  {
   "cell_type": "code",
   "execution_count": 150,
   "metadata": {},
   "outputs": [
    {
     "name": "stdout",
     "output_type": "stream",
     "text": [
      "Todas las instancias de int no inicializadas:\n",
      "[' int jugadores;']\n",
      "Todas las instancias de int inicializadas:\n",
      "[' int puntos = 0;', ' int golpes = 0;', ' int tcpPort = 7899;']\n"
     ]
    }
   ],
   "source": [
    "import re\n",
    "f  = open(\"Ejemplo.txt\",\"r\").read()\n",
    "exp = re.findall(\" int +[a-zA-Z]{0,};\",f)\n",
    "print(\"Todas las instancias de int no inicializadas:\")\n",
    "print(exp)\n",
    "exp = re.findall(\" int +[a-zA-Z]{1,} += +[0-9]{1,};\",f, flags=re.MULTILINE)\n",
    "print(\"Todas las instancias de int inicializadas:\")\n",
    "print(exp)\n"
   ]
  },
  {
   "cell_type": "code",
   "execution_count": null,
   "metadata": {},
   "outputs": [],
   "source": []
  }
 ],
 "metadata": {
  "kernelspec": {
   "display_name": "Python 3",
   "language": "python",
   "name": "python3"
  },
  "language_info": {
   "codemirror_mode": {
    "name": "ipython",
    "version": 3
   },
   "file_extension": ".py",
   "mimetype": "text/x-python",
   "name": "python",
   "nbconvert_exporter": "python",
   "pygments_lexer": "ipython3",
   "version": "3.7.6"
  }
 },
 "nbformat": 4,
 "nbformat_minor": 4
}
