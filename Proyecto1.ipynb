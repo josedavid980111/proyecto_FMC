{
 "cells": [
  {
   "cell_type": "code",
   "execution_count": 74,
   "metadata": {},
   "outputs": [
    {
     "name": "stdout",
     "output_type": "stream",
     "text": [
      "Todas las instancias de int no inicializadas:\n",
      "['puntos', 'golpes', 'tcpPort', 'i']\n",
      "Todas las instancias de int no inicializadas:\n",
      "['jugadores;', 'aux2;']\n"
     ]
    }
   ],
   "source": [
    "import re\n",
    "#archivo = input(\"Nombre del archivo: \")\n",
    "#f=open(archivo+\".txt\").read()\n",
    "f=open(\"Ejemplo.txt\").read()\n",
    "\n",
    "\n",
    "ExpReg11 = \"int+\\s\\w+\"+\"\\s=\"\n",
    "Exp11 = re.findall(ExpReg11,f,flags=re.MULTILINE)\n",
    "\n",
    "res11=[]\n",
    "for x in range(len(Exp11)):\n",
    "    Aux11=re.sub(\"int\", \" \", Exp11[x])\n",
    "    ExpReg12 = \"\\w+[^=]\"\n",
    "    Exp12 = re.findall(ExpReg12,Aux11,flags=re.MULTILINE)\n",
    "    Aux12=re.sub(\"\\s\", \"\", Exp12[0])\n",
    "    res11.append(Aux12)\n",
    "print(\"Todas las instancias de int no inicializadas:\")\n",
    "print(res11)\n",
    "\n",
    "\n",
    "\n",
    "\n",
    "ExpReg13 = \"int+\\s\\w+\"+\";\"\n",
    "Exp13 = re.findall(ExpReg13,f,flags=re.MULTILINE)\n",
    "\n",
    "res12=[]\n",
    "for x in range(len(Exp13)):\n",
    "    Aux13=re.sub(\"int\", \" \", Exp13[x])\n",
    "    ExpReg14= \"\\w+[^=]\"\n",
    "    Exp14 = re.findall(ExpReg14,Aux13,flags=re.MULTILINE)\n",
    "    Aux14=re.sub(\"\\s\", \"\", Exp14[0])\n",
    "    res12.append(Aux14)\n",
    "print(\"Todas las instancias de int no inicializadas:\")\n",
    "print(res12)\n"
   ]
  },
  {
   "cell_type": "code",
   "execution_count": 61,
   "metadata": {},
   "outputs": [
    {
     "name": "stdout",
     "output_type": "stream",
     "text": [
      "Todas las instancias de int inicializadas:\n",
      "['int jugadores;', 'int aux2;']\n",
      "['int ju', 'int au']\n"
     ]
    }
   ],
   "source": [
    "print(\"Todas las instancias de int inicializadas:\")\n",
    "ExpReg13 = \"int+\\s\\w+\"+\";\"\n",
    "Exp13 = re.findall(ExpReg13,f,flags=re.MULTILINE)\n",
    "print(Exp13)\n",
    "res12=[]\n",
    "for x in range(len(Exp13)):\n",
    "    ExpReg14 = \"\\w+\\s[^int][^;]\"\n",
    "    Exp14 = re.findall(ExpReg14,Exp13[x],flags=re.MULTILINE)\n",
    "    res12.append(Exp14[0])\n",
    "print(res12)"
   ]
  },
  {
   "cell_type": "code",
   "execution_count": 20,
   "metadata": {},
   "outputs": [
    {
     "name": "stdout",
     "output_type": "stream",
     "text": [
      "Todas las instancias de String no inicializadas:\n",
      "['String tcpIP =', 'String name =']\n",
      "Todas las instancias de int inicializadas:\n",
      "['String idJuego;']\n",
      "String idJuego;\n",
      "['idJueg']\n",
      "['idJueg']\n"
     ]
    }
   ],
   "source": [
    "\n",
    "print(\"Todas las instancias de String no inicializadas:\")\n",
    "ExpReg21 = \"String+\\s\\w+\"+\"\\s=\"\n",
    "Exp21 = re.findall(ExpReg21,f,flags=re.MULTILINE)\n",
    "print(Exp21)\n",
    "\n",
    "print(\"Todas las instancias de int inicializadas:\")\n",
    "ExpReg22 = \"String+\\s\\w+\"+\";\"\n",
    "Exp22 = re.findall(ExpReg22,f,flags=re.MULTILINE)\n",
    "print(Exp22)\n",
    "res21=[]\n",
    "for x in range(len(Exp22)):\n",
    "    print(Exp22[x])\n",
    "    ExpReg23 = \"\\w+[^\\sString][^;]\"\n",
    "    Exp23 = re.findall(ExpReg23,Exp22[x],flags=re.MULTILINE)\n",
    "    res21.append(Exp23[0])\n",
    "    print(Exp23)\n",
    "print(res21)"
   ]
  },
  {
   "cell_type": "code",
   "execution_count": 186,
   "metadata": {},
   "outputs": [
    {
     "name": "stdout",
     "output_type": "stream",
     "text": [
      "Skan\n"
     ]
    }
   ],
   "source": [
    "\n",
    "txt = \"The Skan rain in Spain SJH\"\n",
    "x = re.search(r\"\\bS\\w+\", txt)\n",
    "print(x.group())"
   ]
  },
  {
   "cell_type": "code",
   "execution_count": 203,
   "metadata": {},
   "outputs": [
    {
     "name": "stdout",
     "output_type": "stream",
     "text": [
      "Dime el dato numero 1: 3\n",
      "Dime el dato numero 2: 4\n",
      "Dime el dato numero 3: 5\n",
      "Dime el dato numero 4: 6\n",
      "Dime el dato numero 5: 7\n",
      "Dime el dato numero 6: 8\n",
      "Los datos al reves son: \n",
      "8\n",
      "7\n",
      "6\n",
      "5\n",
      "4\n",
      "3\n"
     ]
    }
   ],
   "source": [
    "datos = { }\n",
    "for i in range(1,7):\n",
    "    datos[i-1] = int( input( \"Dime el dato numero {}: \".format(i) ))\n",
    "print (\"Los datos al reves son: \")\n",
    "for i in range(6,0,-1):\n",
    "    print ( datos[i-1] )"
   ]
  },
  {
   "cell_type": "code",
   "execution_count": 63,
   "metadata": {},
   "outputs": [
    {
     "name": "stdout",
     "output_type": "stream",
     "text": [
      "The9rain9in Spain\n"
     ]
    }
   ],
   "source": [
    "\n",
    "txt = \"The rain in Spain\"\n",
    "x = re.sub(\"\\s\", \"9\", txt, 2)\n",
    "print(x)"
   ]
  },
  {
   "cell_type": "code",
   "execution_count": null,
   "metadata": {},
   "outputs": [],
   "source": []
  }
 ],
 "metadata": {
  "kernelspec": {
   "display_name": "Python 3",
   "language": "python",
   "name": "python3"
  }
 },
 "nbformat": 4,
 "nbformat_minor": 4
}
