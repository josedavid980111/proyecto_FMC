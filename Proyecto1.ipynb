{
 "cells": [
  {
   "cell_type": "code",
   "execution_count": 74,
   "metadata": {},
   "outputs": [
    {
     "name": "stdout",
     "output_type": "stream",
     "text": [
      "Todas las instancias de int no inicializadas:\n",
      "['puntos', 'golpes', 'tcpPort', 'i']\n",
      "Todas las instancias de int no inicializadas:\n",
      "['jugadores;', 'aux2;']\n"
     ]
    }
   ],
   "source": [
    "import re\n",
    "#archivo = input(\"Nombre del archivo: \")\n",
    "#f=open(archivo+\".txt\").read()\n",
    "f=open(\"Ejemplo.txt\").read()\n",
    "\n",
    "\n",
    "ExpReg11 = \"int+\\s\\w+\"+\"\\s=\"\n",
    "Exp11 = re.findall(ExpReg11,f,flags=re.MULTILINE)\n",
    "\n",
    "res11=[]\n",
    "for x in range(len(Exp11)):\n",
    "    Aux11=re.sub(\"int\", \" \", Exp11[x])\n",
    "    ExpReg12 = \"\\w+[^=]\"\n",
    "    Exp12 = re.findall(ExpReg12,Aux11,flags=re.MULTILINE)\n",
    "    Aux12=re.sub(\"\\s\", \"\", Exp12[0])\n",
    "    res11.append(Aux12)\n",
    "print(\"Todas las instancias de int no inicializadas:\")\n",
    "print(res11)\n",
    "\n",
    "\n",
    "\n",
    "\n",
    "ExpReg13 = \"int+\\s\\w+\"+\";\"\n",
    "Exp13 = re.findall(ExpReg13,f,flags=re.MULTILINE)\n",
    "\n",
    "res12=[]\n",
    "for x in range(len(Exp13)):\n",
    "    Aux13=re.sub(\"int\", \" \", Exp13[x])\n",
    "    ExpReg14= \"\\w+[^=]\"\n",
    "    Exp14 = re.findall(ExpReg14,Aux13,flags=re.MULTILINE)\n",
    "    Aux14=re.sub(\"\\s\", \"\", Exp14[0])\n",
    "    res12.append(Aux14)\n",
    "print(\"Todas las instancias de int no inicializadas:\")\n",
    "print(res12)\n"
   ]
  },
  {
   "cell_type": "code",
   "execution_count": 76,
   "metadata": {},
   "outputs": [
    {
     "name": "stdout",
     "output_type": "stream",
     "text": [
      "Todas las instancias de Integer no inicializadas:\n",
      "[]\n",
      "Todas las instancias de Integer no inicializadas:\n",
      "[]\n"
     ]
    }
   ],
   "source": [
    "ExpReg21 = \"Integer+\\s\\w+\"+\"\\s=\"\n",
    "Exp21 = re.findall(ExpReg21,f,flags=re.MULTILINE)\n",
    "\n",
    "res21=[]\n",
    "for x in range(len(Exp21)):\n",
    "    Aux21=re.sub(\"Integer\", \" \", Exp21[x])\n",
    "    ExpReg22 = \"\\w+[^=]\"\n",
    "    Exp22 = re.findall(ExpReg22,Aux21,flags=re.MULTILINE)\n",
    "    Aux22=re.sub(\"\\s\", \"\", Exp12[0])\n",
    "    res21.append(Aux22)\n",
    "print(\"Todas las instancias de Integer no inicializadas:\")\n",
    "print(res21)\n",
    "\n",
    "\n",
    "\n",
    "\n",
    "ExpReg23 = \"Integer+\\s\\w+\"+\";\"\n",
    "Exp23 = re.findall(ExpReg23,f,flags=re.MULTILINE)\n",
    "\n",
    "res22=[]\n",
    "for x in range(len(Exp23)):\n",
    "    Aux23=re.sub(\"Integer\", \" \", Exp23[x])\n",
    "    ExpReg24= \"\\w+[^=]\"\n",
    "    Exp24 = re.findall(ExpReg24,Aux23,flags=re.MULTILINE)\n",
    "    Aux24=re.sub(\"\\s\", \"\", Exp24[0])\n",
    "    res22.append(Aux24)\n",
    "print(\"Todas las instancias de Integer no inicializadas:\")\n",
    "print(res22)\n"
   ]
  },
  {
   "cell_type": "code",
   "execution_count": null,
   "metadata": {},
   "outputs": [],
   "source": []
  }
 ],
 "metadata": {
  "kernelspec": {
   "display_name": "Python 3",
   "language": "python",
   "name": "python3"
  }
 },
 "nbformat": 4,
 "nbformat_minor": 4
}
