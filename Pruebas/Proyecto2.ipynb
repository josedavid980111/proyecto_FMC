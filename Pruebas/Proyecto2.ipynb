{
 "cells": [
  {
   "cell_type": "code",
   "execution_count": 127,
   "metadata": {
    "scrolled": true
   },
   "outputs": [
    {
     "name": "stdout",
     "output_type": "stream",
     "text": [
      "['int golpes =', 'int tcpPort =', 'int i =']\n",
      "Todas las instancias de int no inicializadas:\n",
      "['golpes', 'tcpPort', 'i']\n",
      "Todas las instancias de int no inicializadas:\n",
      "['aux2']\n"
     ]
    }
   ],
   "source": [
    "import re, string\n",
    "#archivo = input(\"Nombre del archivo: \")\n",
    "#f=open(archivo+\".txt\").read()\n",
    "f=open(\"Ejemplo.txt\").read()\n",
    "\n",
    "\n",
    "ExpReg11 = \"int+\\s\\w+\"+\"\\s=\"\n",
    "Exp11 = re.findall(ExpReg11,f,flags=re.MULTILINE)\n",
    "print(Exp11)\n",
    "\n",
    "res11=[]\n",
    "for x in range(len(Exp11)):\n",
    "    Aux11=re.sub(\"int\", \" \", Exp11[x])\n",
    "    ExpReg12 = \"\\w+[^=]\"\n",
    "    Exp12 = re.findall(ExpReg12,Aux11,flags=re.MULTILINE)\n",
    "    Aux12=re.sub(\"\\s\", \"\", Exp12[0])\n",
    "    res11.append(Aux12)\n",
    "print(\"Todas las instancias de int no inicializadas:\")\n",
    "print(res11)\n",
    "\n",
    "\n",
    "\n",
    "\n",
    "ExpReg13 = \"int+\\s\\w+\"+\";\"\n",
    "Exp13 = re.findall(ExpReg13,f,flags=re.MULTILINE)\n",
    "\n",
    "res12=[]\n",
    "for x in range(len(Exp13)):\n",
    "    Aux13=re.sub(\"int\", \" \", Exp13[x])\n",
    "    ExpReg14= \"\\w+[^;]\"\n",
    "    Exp14 = re.findall(ExpReg14,Aux13,flags=re.MULTILINE)\n",
    "    Aux14=re.sub(\"\\s\", \"\", Exp14[0])\n",
    "    res12.append(Aux14)\n",
    "print(\"Todas las instancias de int no inicializadas:\")\n",
    "print(res12)\n",
    "\n",
    "\n",
    "\n"
   ]
  },
  {
   "cell_type": "raw",
   "metadata": {},
   "source": [
    "ExpReg21 = \"Integer+\\s\\w+\"+\"\\s=\"\n",
    "Exp21 = re.findall(ExpReg21,f,flags=re.MULTILINE)\n",
    "\n",
    "res21=[]\n",
    "for x in range(len(Exp21)):\n",
    "    Aux21=re.sub(\"Integer\", \" \", Exp21[x])\n",
    "    ExpReg22 = \"\\w+[^=]\"\n",
    "    Exp22 = re.findall(ExpReg22,Aux21,flags=re.MULTILINE)\n",
    "    Aux22=re.sub(\"\\s\", \"\", Exp22[0])\n",
    "    res21.append(Aux22)\n",
    "print(\"Todas las instancias de Integer no inicializadas:\")\n",
    "print(res21)\n",
    "\n",
    "\n",
    "\n",
    "\n",
    "ExpReg23 = \"Integer+\\s\\w+\"+\";\"\n",
    "Exp23 = re.findall(ExpReg23,f,flags=re.MULTILINE)\n",
    "\n",
    "res22=[]\n",
    "for x in range(len(Exp23)):\n",
    "    Aux23=re.sub(\"Integer\", \" \", Exp23[x])\n",
    "    ExpReg24= \"\\w+[^;]\"\n",
    "    Exp24 = re.findall(ExpReg24,Aux23,flags=re.MULTILINE)\n",
    "    Aux24=re.sub(\"\\s\", \"\", Exp24[0])\n",
    "    res22.append(Aux24)\n",
    "print(\"Todas las instancias de Integer no inicializadas:\")\n",
    "print(res22)\n"
   ]
  },
  {
   "cell_type": "code",
   "execution_count": 10,
   "metadata": {},
   "outputs": [
    {
     "name": "stdout",
     "output_type": "stream",
     "text": [
      "Todas las instancias de String no inicializadas:\n",
      "[]\n",
      "Todas las instancias de String no inicializadas:\n",
      "['idJuego']\n"
     ]
    }
   ],
   "source": [
    "ExpReg31 = \"String+\\s\\w+\"+\"\\s=\"\n",
    "Exp31 = re.findall(ExpReg31,f,flags=re.MULTILINE)\n",
    "\n",
    "res31=[]\n",
    "for x in range(len(Exp31)):\n",
    "    Aux31=re.sub(\"String\", \" \", Exp31[x])\n",
    "    ExpReg32 = \"\\w+[^=]\"\n",
    "    Exp32 = re.findall(ExpReg32,Aux31,flags=re.MULTILINE)\n",
    "    Aux32=re.sub(\"\\s\", \"\", Exp32[0])\n",
    "    res31.append(Aux32)\n",
    "print(\"Todas las instancias de String no inicializadas:\")\n",
    "print(res21)\n",
    "\n",
    "\n",
    "\n",
    "\n",
    "ExpReg33 = \"String+\\s\\w+\"+\";\"\n",
    "Exp33 = re.findall(ExpReg33,f,flags=re.MULTILINE)\n",
    "\n",
    "res32=[]\n",
    "for x in range(len(Exp33)):\n",
    "    Aux33=re.sub(\"String\", \" \", Exp33[x])\n",
    "    ExpReg34= \"\\w+[^;]\"\n",
    "    Exp34 = re.findall(ExpReg34,Aux33,flags=re.MULTILINE)\n",
    "    Aux34=re.sub(\"\\s\", \"\", Exp34[0])\n",
    "    res32.append(Aux34)\n",
    "print(\"Todas las instancias de String no inicializadas:\")\n",
    "print(res32)"
   ]
  },
  {
   "cell_type": "code",
   "execution_count": 158,
   "metadata": {},
   "outputs": [
    {
     "name": "stdout",
     "output_type": "stream",
     "text": [
      "1\n",
      "2\n",
      "3\n",
      "1\n",
      "int,puntos,,,EEXC,,er\n",
      "int puntos   EEXC  er\n",
      "  puntos   EEXC  er\n",
      " puntos EEXC er\n",
      "['puntos']\n",
      "['puntos', 'EEXC']\n",
      "['puntos', 'EEXC', 'er']\n",
      "['puntos', 'EEXC', 'er']\n"
     ]
    }
   ],
   "source": [
    "Aux=re.sub(\"\\s\",\",\", f)\n",
    "bandera=True\n",
    "aux=0\n",
    "while bandera:\n",
    "    aux=aux+1\n",
    "    print(aux)\n",
    "    if aux==3:\n",
    "        bandera=False\n",
    "ExpReg33 = \"int\"+r\",\"+\"\\w+\"+r\",+\"+\"\\w+\"+r\",+\"+\"\\w+\"\n",
    "Exp33 = re.findall(ExpReg33,Aux,flags=re.MULTILINE)\n",
    "print(len(Exp33))\n",
    "print(Exp33[0])\n",
    "\n",
    "Aux2=re.sub(\",\",\" \", Exp33[0])\n",
    "print(Aux2)\n",
    "Aux3=re.sub(\"int\",\" \", Aux2)\n",
    "print(Aux3)\n",
    "Aux4=re.sub(\" +\",\" \", Aux3)\n",
    "print(Aux4)\n",
    "ExpReg35 = \"\\s\\w+\"\n",
    "\n",
    "Exp35 = re.findall(ExpReg35,Aux3,flags=re.MULTILINE)\n",
    "resAux=[]\n",
    "for x in range(len(Exp35)):\n",
    "    resAux.append(re.sub(\" \", \"\", Exp35[x]))\n",
    "    print(resAux)\n",
    "print(resAux)"
   ]
  },
  {
   "cell_type": "code",
   "execution_count": null,
   "metadata": {},
   "outputs": [],
   "source": []
  }
 ],
 "metadata": {
  "kernelspec": {
   "display_name": "Python 3",
   "language": "python",
   "name": "python3"
  },
  "language_info": {
   "codemirror_mode": {
    "name": "ipython",
    "version": 3
   },
   "file_extension": ".py",
   "mimetype": "text/x-python",
   "name": "python",
   "nbconvert_exporter": "python",
   "pygments_lexer": "ipython3",
   "version": "3.7.6"
  }
 },
 "nbformat": 4,
 "nbformat_minor": 4
}
