{
 "cells": [
  {
   "cell_type": "code",
   "execution_count": 21,
   "metadata": {},
   "outputs": [
    {
     "name": "stdout",
     "output_type": "stream",
     "text": [
      "Todas las instancias de int no inicializadas:\n",
      "[' int jugadores;']\n",
      "1\n",
      "Todas las instancias de int inicializadas:\n",
      "[' int puntos = 0;', '            int golpes = 0;', '            int tcpPort = 7899;', 'int i = 0;']\n",
      "4\n"
     ]
    }
   ],
   "source": [
    "#byte \t0\n",
    "#short \t0\n",
    "#int \t0\n",
    "#long \t0L\n",
    "#float \t0.0f\n",
    "#double \t0.0d\n",
    "#char \t'\\u0000'\n",
    "#String (or any object)   \tnull\n",
    "#boolean\n",
    "\n",
    "import re\n",
    "f  = open(\"archivo.txt\",\"r\").read()\n",
    "exp = re.findall(\" *int +[a-zA-Z]{1,};\",f)\n",
    "print(\"Todas las instancias de int no inicializadas:\")\n",
    "print(exp)\n",
    "print(len(exp))\n",
    "exp = re.findall(\" *int +[a-zA-Z]{1,} += +[0-9]{1,};\",f)\n",
    "print(\"Todas las instancias de int inicializadas:\")\n",
    "print(exp)\n",
    "print(len(exp))"
   ]
  },
  {
   "cell_type": "code",
   "execution_count": 22,
   "metadata": {},
   "outputs": [
    {
     "name": "stdout",
     "output_type": "stream",
     "text": [
      "Todas las instancias de String no inicializadas:\n",
      "[' String idJuego;']\n",
      "El número total de las instancias de String no inicializadas es: 1\n",
      "Todas las instancias de String inicializadas:\n",
      "['            String tcpIP = \"localhost\";', '                String name = \"Login\";']\n",
      "El número total de las instancias de String no inicializadas es: 2\n"
     ]
    }
   ],
   "source": [
    "exp = re.findall(\" *String +[a-zA-Z]{1,};\",f)\n",
    "print(\"Todas las instancias de String no inicializadas:\")\n",
    "print(exp)\n",
    "num2str = len(exp)\n",
    "print(\"El número total de las instancias de String no inicializadas es: \" + str(num2str))\n",
    "exp = re.findall(\" *String +[a-zA-Z]{1,} += +\\\".*\\\";\",f)\n",
    "print(\"Todas las instancias de String inicializadas:\")\n",
    "print(exp)\n",
    "num2str = len(exp)\n",
    "print(\"El número total de las instancias de String no inicializadas es: \" + str(num2str))"
   ]
  },
  {
   "cell_type": "code",
   "execution_count": 23,
   "metadata": {},
   "outputs": [
    {
     "name": "stdout",
     "output_type": "stream",
     "text": [
      "Todas las instancias de byte no inicializadas:\n",
      "[' byte maBaitMan;']\n",
      "El número total de las instancias de byte no inicializadas es: 1\n",
      "Todas las instancias de byte inicializadas:\n",
      "[' byte MaByte = 1;']\n",
      "El número total de las instancias de byte no inicializadas es: 1\n"
     ]
    }
   ],
   "source": [
    "exp = re.findall(\" *byte +[a-zA-Z]{1,};\",f)\n",
    "print(\"Todas las instancias de byte no inicializadas:\")\n",
    "print(exp)\n",
    "num2str = len(exp)\n",
    "print(\"El número total de las instancias de byte no inicializadas es: \" + str(num2str))\n",
    "exp = re.findall(\" *byte +[a-zA-Z]{1,} += +[0-9]{1,};\",f)\n",
    "print(\"Todas las instancias de byte inicializadas:\")\n",
    "print(exp)\n",
    "num2str = len(exp)\n",
    "print(\"El número total de las instancias de byte no inicializadas es: \" + str(num2str))"
   ]
  },
  {
   "cell_type": "code",
   "execution_count": 24,
   "metadata": {},
   "outputs": [
    {
     "name": "stdout",
     "output_type": "stream",
     "text": [
      "Todas las instancias de String no inicializadas:\n",
      "[' String idJuego;']\n",
      "Todas las instancias de String inicializadas:\n",
      "['            String tcpIP = \"localhost\";', '                String name = \"Login\";']\n",
      "Todas las instancias de String no inicializadas:\n",
      "[' String idJuego;']\n",
      "Todas las instancias de String inicializadas:\n",
      "['            String tcpIP = \"localhost\";', '                String name = \"Login\";']\n"
     ]
    }
   ],
   "source": [
    "exp = re.findall(\" *String +[a-zA-Z]{1,};\",f)\n",
    "print(\"Todas las instancias de String no inicializadas:\")\n",
    "print(exp)\n",
    "exp = re.findall(\" *String +[a-zA-Z]{1,} += +\\\".*\\\";\",f)\n",
    "print(\"Todas las instancias de String inicializadas:\")\n",
    "print(exp)\n",
    "\n",
    "exp = re.findall(\" *String +[a-zA-Z]{1,};\",f)\n",
    "print(\"Todas las instancias de String no inicializadas:\")\n",
    "print(exp)\n",
    "exp = re.findall(\" *String +[a-zA-Z]{1,} += +\\\".*\\\";\",f)\n",
    "print(\"Todas las instancias de String inicializadas:\")\n",
    "print(exp)\n",
    "\n"
   ]
  },
  {
   "cell_type": "code",
   "execution_count": null,
   "metadata": {},
   "outputs": [],
   "source": [
    "exp = re.findall(\" *double +[a-zA-Z]{1,};\",f)\n",
    "print(\"Todas las instancias de double no inicializadas:\")\n",
    "print(exp)\n",
    "exp = re.findall(\" *double +[a-zA-Z]{1,} += +\\\".*\\\";\",f)\n",
    "print(\"Todas las instancias de double inicializadas:\")\n",
    "print(exp)\n",
    "\n",
    "exp = re.findall(\" *double +[a-zA-Z]{1,};\",f)\n",
    "print(\"Todas las instancias de double no inicializadas:\")\n",
    "print(exp)\n",
    "exp = re.findall(\" *double +[a-zA-Z]{1,} += +\\\".*\\\";\",f)\n",
    "print(\"Todas las instancias de double inicializadas:\")\n",
    "print(exp)\n"
   ]
  }
 ],
 "metadata": {
  "kernelspec": {
   "display_name": "Python 3",
   "language": "python",
   "name": "python3"
  },
  "language_info": {
   "codemirror_mode": {
    "name": "ipython",
    "version": 3
   },
   "file_extension": ".py",
   "mimetype": "text/x-python",
   "name": "python",
   "nbconvert_exporter": "python",
   "pygments_lexer": "ipython3",
   "version": "3.8.3"
  }
 },
 "nbformat": 4,
 "nbformat_minor": 4
}
